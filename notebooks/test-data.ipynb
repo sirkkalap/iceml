{
 "cells": [
  {
   "cell_type": "code",
   "execution_count": 1,
   "metadata": {
    "collapsed": true
   },
   "outputs": [],
   "source": [
    "import numpy as np\n",
    "import pandas as pd\n",
    "import geopandas as gpd\n",
    "from shapely.geometry import Point\n",
    "import os\n",
    "import seaborn as sns\n",
    "import matplotlib.pyplot as plt\n",
    "from sklearn import linear_model\n",
    "%matplotlib inline\n",
    "plt.style.use('seaborn')\n"
   ]
  },
  {
   "cell_type": "code",
   "execution_count": 24,
   "metadata": {
    "scrolled": false
   },
   "outputs": [
    {
     "data": {
      "text/html": [
       "<div>\n",
       "<style>\n",
       "    .dataframe thead tr:only-child th {\n",
       "        text-align: right;\n",
       "    }\n",
       "\n",
       "    .dataframe thead th {\n",
       "        text-align: left;\n",
       "    }\n",
       "\n",
       "    .dataframe tbody tr th {\n",
       "        vertical-align: top;\n",
       "    }\n",
       "</style>\n",
       "<table border=\"1\" class=\"dataframe\">\n",
       "  <thead>\n",
       "    <tr style=\"text-align: right;\">\n",
       "      <th></th>\n",
       "      <th>timestamp</th>\n",
       "      <th>mmsi</th>\n",
       "      <th>lon</th>\n",
       "      <th>lat</th>\n",
       "      <th>sog</th>\n",
       "      <th>cog</th>\n",
       "      <th>heading</th>\n",
       "    </tr>\n",
       "  </thead>\n",
       "  <tbody>\n",
       "    <tr>\n",
       "      <th>2263440</th>\n",
       "      <td>2018-03-14 23:59:59.064</td>\n",
       "      <td>276776000</td>\n",
       "      <td>21.473023</td>\n",
       "      <td>61.126297</td>\n",
       "      <td>0.0</td>\n",
       "      <td>63.7</td>\n",
       "      <td>323</td>\n",
       "    </tr>\n",
       "    <tr>\n",
       "      <th>2263441</th>\n",
       "      <td>2018-03-14 23:59:59.066</td>\n",
       "      <td>230992260</td>\n",
       "      <td>21.472692</td>\n",
       "      <td>61.127272</td>\n",
       "      <td>0.0</td>\n",
       "      <td>268.4</td>\n",
       "      <td>184</td>\n",
       "    </tr>\n",
       "    <tr>\n",
       "      <th>2263442</th>\n",
       "      <td>2018-03-14 23:59:59.067</td>\n",
       "      <td>230992660</td>\n",
       "      <td>28.877223</td>\n",
       "      <td>61.877110</td>\n",
       "      <td>0.0</td>\n",
       "      <td>0.0</td>\n",
       "      <td>511</td>\n",
       "    </tr>\n",
       "    <tr>\n",
       "      <th>2263443</th>\n",
       "      <td>2018-03-14 23:59:59.074</td>\n",
       "      <td>230115340</td>\n",
       "      <td>21.464200</td>\n",
       "      <td>61.594145</td>\n",
       "      <td>0.0</td>\n",
       "      <td>198.4</td>\n",
       "      <td>264</td>\n",
       "    </tr>\n",
       "    <tr>\n",
       "      <th>2263444</th>\n",
       "      <td>2018-03-14 23:59:59.089</td>\n",
       "      <td>230052840</td>\n",
       "      <td>28.386033</td>\n",
       "      <td>61.608773</td>\n",
       "      <td>0.0</td>\n",
       "      <td>1.6</td>\n",
       "      <td>1</td>\n",
       "    </tr>\n",
       "  </tbody>\n",
       "</table>\n",
       "</div>"
      ],
      "text/plain": [
       "                      timestamp       mmsi        lon        lat  sog    cog  \\\n",
       "2263440 2018-03-14 23:59:59.064  276776000  21.473023  61.126297  0.0   63.7   \n",
       "2263441 2018-03-14 23:59:59.066  230992260  21.472692  61.127272  0.0  268.4   \n",
       "2263442 2018-03-14 23:59:59.067  230992660  28.877223  61.877110  0.0    0.0   \n",
       "2263443 2018-03-14 23:59:59.074  230115340  21.464200  61.594145  0.0  198.4   \n",
       "2263444 2018-03-14 23:59:59.089  230052840  28.386033  61.608773  0.0    1.6   \n",
       "\n",
       "         heading  \n",
       "2263440      323  \n",
       "2263441      184  \n",
       "2263442      511  \n",
       "2263443      264  \n",
       "2263444        1  "
      ]
     },
     "execution_count": 24,
     "metadata": {},
     "output_type": "execute_result"
    }
   ],
   "source": [
    "ais = pd.read_csv('../bigdata/ais-observations-1-week-20180315.csv', parse_dates = ['timestamp'])\n",
    "ais = ais.sort_values(by=['timestamp'])\n",
    "ais.head()"
   ]
  },
  {
   "cell_type": "code",
   "execution_count": 25,
   "metadata": {},
   "outputs": [],
   "source": [
    "#Aura 230601000\n",
    "#BBC Virginia 305463000\n",
    "#Kiisla 230956000\n",
    "#Sisu 230289000\n",
    "#Ymer 265066000\n",
    "test_ais = ais[(ais['mmsi'].isin([230601000, 305463000, 230956000, 230289000, 265066000])) & \n",
    "            (ais['timestamp'] >= '2018-03-19 00:00:00') &\n",
    "            (ais['timestamp'] < '2018-03-20 00:00:00')]\n",
    "test_ais.to_csv(\"../testdata/testdata.csv\", index=False)"
   ]
  },
  {
   "cell_type": "code",
   "execution_count": 29,
   "metadata": {},
   "outputs": [
    {
     "data": {
      "text/plain": [
       "<seaborn.axisgrid.FacetGrid at 0x2492a3f7a20>"
      ]
     },
     "execution_count": 29,
     "metadata": {},
     "output_type": "execute_result"
    },
    {
     "data": {
      "image/png": "[encoded data removed]",
      "text/plain": [
       "<matplotlib.figure.Figure at 0x249251d8d30>"
      ]
     },
     "metadata": {},
     "output_type": "display_data"
    }
   ],
   "source": [
    "sns.lmplot(x=\"lon\", y=\"lat\", data=test_ais, hue=\"sog\", fit_reg=False, legend=False, scatter_kws={\"s\": 3})"
   ]
  }
 ],
 "metadata": {
  "kernelspec": {
   "display_name": "Python 3",
   "language": "python",
   "name": "python3"
  },
  "language_info": {
   "codemirror_mode": {
    "name": "ipython",
    "version": 3
   },
   "file_extension": ".py",
   "mimetype": "text/x-python",
   "name": "python",
   "nbconvert_exporter": "python",
   "pygments_lexer": "ipython3",
   "version": "3.6.3"
  }
 },
 "nbformat": 4,
 "nbformat_minor": 2
}
