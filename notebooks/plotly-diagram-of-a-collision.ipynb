{
 "cells": [
  {
   "cell_type": "code",
   "execution_count": 1,
   "metadata": {
    "collapsed": true
   },
   "outputs": [],
   "source": [
    "import numpy as np\n",
    "import pandas as pd\n",
    "import geopandas as gpd\n",
    "from shapely.geometry import Point\n",
    "import os\n",
    "import seaborn as sns\n",
    "import matplotlib.pyplot as plt\n",
    "from sklearn import linear_model\n",
    "%matplotlib inline\n",
    "plt.style.use('seaborn')\n"
   ]
  },
  {
   "cell_type": "code",
   "execution_count": 2,
   "metadata": {
    "scrolled": true
   },
   "outputs": [
    {
     "data": {
      "text/html": [
       "<div>\n",
       "<style>\n",
       "    .dataframe thead tr:only-child th {\n",
       "        text-align: right;\n",
       "    }\n",
       "\n",
       "    .dataframe thead th {\n",
       "        text-align: left;\n",
       "    }\n",
       "\n",
       "    .dataframe tbody tr th {\n",
       "        vertical-align: top;\n",
       "    }\n",
       "</style>\n",
       "<table border=\"1\" class=\"dataframe\">\n",
       "  <thead>\n",
       "    <tr style=\"text-align: right;\">\n",
       "      <th></th>\n",
       "      <th>timestamp</th>\n",
       "      <th>mmsi</th>\n",
       "      <th>lon</th>\n",
       "      <th>lat</th>\n",
       "      <th>sog</th>\n",
       "      <th>cog</th>\n",
       "      <th>heading</th>\n",
       "    </tr>\n",
       "  </thead>\n",
       "  <tbody>\n",
       "    <tr>\n",
       "      <th>2263440</th>\n",
       "      <td>2018-03-14 23:59:59.064</td>\n",
       "      <td>276776000</td>\n",
       "      <td>21.473023</td>\n",
       "      <td>61.126297</td>\n",
       "      <td>0.0</td>\n",
       "      <td>63.7</td>\n",
       "      <td>323</td>\n",
       "    </tr>\n",
       "    <tr>\n",
       "      <th>2263441</th>\n",
       "      <td>2018-03-14 23:59:59.066</td>\n",
       "      <td>230992260</td>\n",
       "      <td>21.472692</td>\n",
       "      <td>61.127272</td>\n",
       "      <td>0.0</td>\n",
       "      <td>268.4</td>\n",
       "      <td>184</td>\n",
       "    </tr>\n",
       "    <tr>\n",
       "      <th>2263442</th>\n",
       "      <td>2018-03-14 23:59:59.067</td>\n",
       "      <td>230992660</td>\n",
       "      <td>28.877223</td>\n",
       "      <td>61.877110</td>\n",
       "      <td>0.0</td>\n",
       "      <td>0.0</td>\n",
       "      <td>511</td>\n",
       "    </tr>\n",
       "    <tr>\n",
       "      <th>2263443</th>\n",
       "      <td>2018-03-14 23:59:59.074</td>\n",
       "      <td>230115340</td>\n",
       "      <td>21.464200</td>\n",
       "      <td>61.594145</td>\n",
       "      <td>0.0</td>\n",
       "      <td>198.4</td>\n",
       "      <td>264</td>\n",
       "    </tr>\n",
       "    <tr>\n",
       "      <th>2263444</th>\n",
       "      <td>2018-03-14 23:59:59.089</td>\n",
       "      <td>230052840</td>\n",
       "      <td>28.386033</td>\n",
       "      <td>61.608773</td>\n",
       "      <td>0.0</td>\n",
       "      <td>1.6</td>\n",
       "      <td>1</td>\n",
       "    </tr>\n",
       "  </tbody>\n",
       "</table>\n",
       "</div>"
      ],
      "text/plain": [
       "                      timestamp       mmsi        lon        lat  sog    cog  \\\n",
       "2263440 2018-03-14 23:59:59.064  276776000  21.473023  61.126297  0.0   63.7   \n",
       "2263441 2018-03-14 23:59:59.066  230992260  21.472692  61.127272  0.0  268.4   \n",
       "2263442 2018-03-14 23:59:59.067  230992660  28.877223  61.877110  0.0    0.0   \n",
       "2263443 2018-03-14 23:59:59.074  230115340  21.464200  61.594145  0.0  198.4   \n",
       "2263444 2018-03-14 23:59:59.089  230052840  28.386033  61.608773  0.0    1.6   \n",
       "\n",
       "         heading  \n",
       "2263440      323  \n",
       "2263441      184  \n",
       "2263442      511  \n",
       "2263443      264  \n",
       "2263444        1  "
      ]
     },
     "execution_count": 2,
     "metadata": {},
     "output_type": "execute_result"
    }
   ],
   "source": [
    "ais = pd.read_csv('../bigdata/ais-observations-1-week-20180315.csv', parse_dates = ['timestamp'])\n",
    "ais = ais.sort_values(by=['timestamp'])\n",
    "ais.head()"
   ]
  },
  {
   "cell_type": "code",
   "execution_count": 3,
   "metadata": {
    "collapsed": true
   },
   "outputs": [],
   "source": [
    "#Aura 230601000\n",
    "#BBC Virginia 305463000\n",
    "#Kiisla 230956000\n",
    "#Sisu 230289000\n",
    "#Ymer 265066000\n",
    "df = ais[(ais['mmsi'].isin([230601000, 305463000, 230956000, 230289000, 265066000])) & \n",
    "            (ais['timestamp'] >= '2018-03-19 00:00:00') &\n",
    "            (ais['timestamp'] < '2018-03-20 00:00:00')]\n"
   ]
  },
  {
   "cell_type": "code",
   "execution_count": 4,
   "metadata": {},
   "outputs": [
    {
     "data": {
      "text/plain": [
       "99063"
      ]
     },
     "execution_count": 4,
     "metadata": {},
     "output_type": "execute_result"
    }
   ],
   "source": [
    "len(df)"
   ]
  },
  {
   "cell_type": "code",
   "execution_count": 5,
   "metadata": {
    "collapsed": true
   },
   "outputs": [],
   "source": [
    "import plotly\n",
    "import plotly.plotly as py\n",
    "import plotly.graph_objs as go\n",
    "from datetime import datetime\n",
    "plotly.tools.set_credentials_file(username='timole', api_key='...')"
   ]
  },
  {
   "cell_type": "code",
   "execution_count": 6,
   "metadata": {
    "collapsed": true
   },
   "outputs": [],
   "source": [
    "trace0 = go.Scatter(\n",
    "    x = df[df['mmsi'] == 230289000].timestamp,\n",
    "    y = df[df['mmsi'] == 230289000].sog,\n",
    "    mode = 'lines',\n",
    "    name = 'sisu'\n",
    ")\n",
    "\n",
    "trace1 = go.Scatter(\n",
    "    x = df[df['mmsi'] == 230601000].timestamp,\n",
    "    y = df[df['mmsi'] == 230601000].sog,\n",
    "    mode = 'lines',\n",
    "    name = 'Aura'\n",
    ")\n",
    "\n",
    "trace2 = go.Scatter(\n",
    "    x = df[df['mmsi'] == 305463000].timestamp,\n",
    "    y = df[df['mmsi'] == 305463000].sog,\n",
    "    mode = 'lines',\n",
    "    name = 'BBC'\n",
    ")\n"
   ]
  },
  {
   "cell_type": "code",
   "execution_count": 7,
   "metadata": {
    "scrolled": false
   },
   "outputs": [
    {
     "name": "stdout",
     "output_type": "stream",
     "text": [
      "The draw time for this plot will be slow for clients without much RAM.\n"
     ]
    },
    {
     "name": "stderr",
     "output_type": "stream",
     "text": [
      "C:\\Users\\timole\\AppData\\Local\\Continuum\\anaconda3\\lib\\site-packages\\plotly\\api\\v1\\clientresp.py:40: UserWarning:\n",
      "\n",
      "Estimated Draw Time Slow\n",
      "\n"
     ]
    },
    {
     "data": {
      "text/html": [
       "<iframe id=\"igraph\" scrolling=\"no\" style=\"border:none;\" seamless=\"seamless\" src=\"https://plot.ly/~timole/13.embed\" height=\"525px\" width=\"100%\"></iframe>"
      ],
      "text/plain": [
       "<plotly.tools.PlotlyDisplay object>"
      ]
     },
     "execution_count": 7,
     "metadata": {},
     "output_type": "execute_result"
    }
   ],
   "source": [
    "data = [trace0, trace1, trace2]\n",
    "py.iplot(data)"
   ]
  }
 ],
 "metadata": {
  "kernelspec": {
   "display_name": "Python 3",
   "language": "python",
   "name": "python3"
  },
  "language_info": {
   "codemirror_mode": {
    "name": "ipython",
    "version": 3
   },
   "file_extension": ".py",
   "mimetype": "text/x-python",
   "name": "python",
   "nbconvert_exporter": "python",
   "pygments_lexer": "ipython3",
   "version": "3.6.3"
  }
 },
 "nbformat": 4,
 "nbformat_minor": 2
}
